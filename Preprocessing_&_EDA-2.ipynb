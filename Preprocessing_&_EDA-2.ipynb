{
  "nbformat": 4,
  "nbformat_minor": 0,
  "metadata": {
    "colab": {
      "provenance": []
    },
    "kernelspec": {
      "name": "python3",
      "display_name": "Python 3"
    },
    "language_info": {
      "name": "python"
    }
  },
  "cells": [
    {
      "cell_type": "code",
      "execution_count": null,
      "metadata": {
        "id": "GffatiYOw7pL"
      },
      "outputs": [],
      "source": [
        "#Explore the Dataset\n",
        "import matplotlib.pyplot as plt\n",
        "import cv2\n",
        "import os\n",
        "\n",
        "# Display sample images\n",
        "sample_images = os.listdir(\"marine_animal_dataset/some_class_folder\")[:5]  # Replace with actual folder path\n",
        "for img in sample_images:\n",
        "    img_path = os.path.join(\"marine_animal_dataset/some_class_folder\", img)\n",
        "    image = cv2.imread(img_path)\n",
        "    plt.imshow(cv2.cvtColor(image, cv2.COLOR_BGR2RGB))\n",
        "    plt.show()\n",
        "\n",
        "#Analyze Metadata\n",
        "\n",
        "import pandas as pd\n",
        "\n",
        "data = pd.read_csv(\"path_to_annotations.csv\")\n",
        "print(data.head())\n",
        "\n",
        "\n",
        "#Clean and preprocess the data\n",
        "from PIL import Image\n",
        "\n",
        "def preprocess_image(image_path, size=(224, 224)):\n",
        "    img = Image.open(image_path).convert('RGB')\n",
        "    img = img.resize(size)\n",
        "    return img\n",
        "\n",
        "#Split the dataset\n",
        "\n",
        "\n",
        "from sklearn.model_selection import train_test_split\n",
        "\n",
        "train_images, test_images, train_labels, test_labels = train_test_split(\n",
        "    images, labels, test_size=0.1, random_state=42\n",
        ")\n",
        "\n",
        "#Perform EDA\n",
        "\n",
        "import seaborn as sns\n",
        "\n",
        "sns.countplot(y=labels)\n",
        "plt.title(\"Class Distribution\")\n"
      ]
    }
  ]
}